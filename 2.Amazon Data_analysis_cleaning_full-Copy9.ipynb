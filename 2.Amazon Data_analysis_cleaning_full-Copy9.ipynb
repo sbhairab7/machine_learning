{
 "cells": [
  {
   "cell_type": "code",
   "execution_count": 1,
   "metadata": {},
   "outputs": [],
   "source": [
    "# loading data into pandas df\n",
    "import pandas as pd\n",
    "\n",
    "# Loading for data cleaning\n",
    "from bs4 import BeautifulSoup\n",
    "import re\n",
    "from nltk.corpus import stopwords\n",
    "\n",
    "# Loading for stemming & Lemmatizer\n",
    "from nltk.stem import SnowballStemmer, WordNetLemmatizer"
   ]
  },
  {
   "cell_type": "code",
   "execution_count": 2,
   "metadata": {},
   "outputs": [],
   "source": [
    "data5 = pd.read_csv(\"Data5.csv\") \n",
    "data6 = pd.read_csv(\"Data6.csv\") "
   ]
  },
  {
   "cell_type": "code",
   "execution_count": 3,
   "metadata": {
    "scrolled": true
   },
   "outputs": [],
   "source": [
    "subset5 = data5[['Summary', 'Actual Sentiment']]\n",
    "subset5.columns = ['text', 'sentiment']"
   ]
  },
  {
   "cell_type": "code",
   "execution_count": 4,
   "metadata": {},
   "outputs": [],
   "source": [
    "subset6 = data6[['Summary', 'Sentiment ']]\n",
    "subset6.columns = ['text', 'sentiment']"
   ]
  },
  {
   "cell_type": "code",
   "execution_count": 5,
   "metadata": {},
   "outputs": [
    {
     "name": "stdout",
     "output_type": "stream",
     "text": [
      "(4108, 2)\n"
     ]
    }
   ],
   "source": [
    "subset = pd.concat([subset5, subset6], ignore_index=True)\n",
    "print(subset.shape)"
   ]
  },
  {
   "cell_type": "markdown",
   "metadata": {},
   "source": [
    "### Sentiment distribution"
   ]
  },
  {
   "cell_type": "code",
   "execution_count": 6,
   "metadata": {},
   "outputs": [
    {
     "data": {
      "text/plain": [
       "Neutral      1654\n",
       "Positive     1464\n",
       "Negative      880\n",
       "Negative      109\n",
       "negative        1\n",
       "Name: sentiment, dtype: int64"
      ]
     },
     "execution_count": 6,
     "metadata": {},
     "output_type": "execute_result"
    }
   ],
   "source": [
    "subset['sentiment'].value_counts()"
   ]
  },
  {
   "cell_type": "markdown",
   "metadata": {},
   "source": [
    "### Label consolidation"
   ]
  },
  {
   "cell_type": "code",
   "execution_count": 7,
   "metadata": {},
   "outputs": [],
   "source": [
    "def label_corr(text):\n",
    "    text = text.lower().strip()\n",
    "    if text == 'nuetral':\n",
    "        text = 'neutral'\n",
    "    return text"
   ]
  },
  {
   "cell_type": "code",
   "execution_count": 8,
   "metadata": {},
   "outputs": [
    {
     "name": "stdout",
     "output_type": "stream",
     "text": [
      "<class 'str'>\n",
      "(4108, 2)\n"
     ]
    },
    {
     "data": {
      "text/plain": [
       "neutral     1654\n",
       "positive    1464\n",
       "negative     990\n",
       "Name: sentiment, dtype: int64"
      ]
     },
     "execution_count": 8,
     "metadata": {},
     "output_type": "execute_result"
    }
   ],
   "source": [
    "subset['sentiment'] = subset['sentiment'].astype('str')\n",
    "print(type(subset['sentiment'][1]))\n",
    "subset['sentiment'] = [label_corr(i) for i in subset['sentiment']]\n",
    "print(subset.shape)\n",
    "subset['sentiment'].value_counts()"
   ]
  },
  {
   "cell_type": "markdown",
   "metadata": {},
   "source": [
    "### Remove NaN"
   ]
  },
  {
   "cell_type": "code",
   "execution_count": 9,
   "metadata": {},
   "outputs": [
    {
     "data": {
      "text/plain": [
       "(4100, 2)"
      ]
     },
     "execution_count": 9,
     "metadata": {},
     "output_type": "execute_result"
    }
   ],
   "source": [
    "subset.dropna(inplace=True)\n",
    "subset.shape"
   ]
  },
  {
   "cell_type": "code",
   "execution_count": 10,
   "metadata": {
    "scrolled": true
   },
   "outputs": [
    {
     "data": {
      "text/plain": [
       "neutral     1647\n",
       "positive    1463\n",
       "negative     990\n",
       "Name: sentiment, dtype: int64"
      ]
     },
     "execution_count": 10,
     "metadata": {},
     "output_type": "execute_result"
    }
   ],
   "source": [
    "subset['sentiment'].value_counts()"
   ]
  },
  {
   "cell_type": "code",
   "execution_count": 11,
   "metadata": {},
   "outputs": [
    {
     "data": {
      "text/plain": [
       "neutral     40.170732\n",
       "positive    35.682927\n",
       "negative    24.146341\n",
       "Name: sentiment, dtype: float64"
      ]
     },
     "execution_count": 11,
     "metadata": {},
     "output_type": "execute_result"
    }
   ],
   "source": [
    "subset['sentiment'].value_counts(normalize=True) * 100"
   ]
  },
  {
   "cell_type": "code",
   "execution_count": 13,
   "metadata": {},
   "outputs": [
    {
     "data": {
      "text/plain": [
       "neutral     1647\n",
       "positive    1463\n",
       "negative     990\n",
       "Name: sentiment, dtype: int64"
      ]
     },
     "execution_count": 13,
     "metadata": {},
     "output_type": "execute_result"
    }
   ],
   "source": [
    "subset['sentiment'].value_counts()   ### if Still some 'nan' present"
   ]
  },
  {
   "cell_type": "code",
   "execution_count": 14,
   "metadata": {},
   "outputs": [
    {
     "data": {
      "text/plain": [
       "(4100, 2)"
      ]
     },
     "execution_count": 14,
     "metadata": {},
     "output_type": "execute_result"
    }
   ],
   "source": [
    "data_final = subset[subset['sentiment']!='nan']\n",
    "data_final.shape"
   ]
  },
  {
   "cell_type": "code",
   "execution_count": 15,
   "metadata": {},
   "outputs": [
    {
     "data": {
      "text/plain": [
       "neutral     1647\n",
       "positive    1463\n",
       "negative     990\n",
       "Name: sentiment, dtype: int64"
      ]
     },
     "execution_count": 15,
     "metadata": {},
     "output_type": "execute_result"
    }
   ],
   "source": [
    "data_final['sentiment'].value_counts()    ### Clean Data"
   ]
  },
  {
   "cell_type": "code",
   "execution_count": 16,
   "metadata": {
    "scrolled": true
   },
   "outputs": [
    {
     "data": {
      "text/plain": [
       "neutral     40.170732\n",
       "positive    35.682927\n",
       "negative    24.146341\n",
       "Name: sentiment, dtype: float64"
      ]
     },
     "execution_count": 16,
     "metadata": {},
     "output_type": "execute_result"
    }
   ],
   "source": [
    "data_final['sentiment'].value_counts(normalize=True) * 100"
   ]
  },
  {
   "cell_type": "code",
   "execution_count": 17,
   "metadata": {},
   "outputs": [],
   "source": [
    "#data_final['count'] = data_final['text'].str.split().apply(len).value_counts()"
   ]
  },
  {
   "cell_type": "code",
   "execution_count": 18,
   "metadata": {
    "scrolled": true
   },
   "outputs": [
    {
     "data": {
      "text/html": [
       "<div>\n",
       "<style scoped>\n",
       "    .dataframe tbody tr th:only-of-type {\n",
       "        vertical-align: middle;\n",
       "    }\n",
       "\n",
       "    .dataframe tbody tr th {\n",
       "        vertical-align: top;\n",
       "    }\n",
       "\n",
       "    .dataframe thead th {\n",
       "        text-align: right;\n",
       "    }\n",
       "</style>\n",
       "<table border=\"1\" class=\"dataframe\">\n",
       "  <thead>\n",
       "    <tr style=\"text-align: right;\">\n",
       "      <th></th>\n",
       "      <th>text</th>\n",
       "      <th>sentiment</th>\n",
       "    </tr>\n",
       "  </thead>\n",
       "  <tbody>\n",
       "    <tr>\n",
       "      <th>0</th>\n",
       "      <td>Sky Automation Test Manager Colin Ramsay is ha...</td>\n",
       "      <td>positive</td>\n",
       "    </tr>\n",
       "    <tr>\n",
       "      <th>1</th>\n",
       "      <td>TDC will create two new business units OpCo an...</td>\n",
       "      <td>neutral</td>\n",
       "    </tr>\n",
       "    <tr>\n",
       "      <th>2</th>\n",
       "      <td>Client is concerned with our delivery.</td>\n",
       "      <td>negative</td>\n",
       "    </tr>\n",
       "    <tr>\n",
       "      <th>3</th>\n",
       "      <td>The delivery timelines are very well met as pe...</td>\n",
       "      <td>positive</td>\n",
       "    </tr>\n",
       "    <tr>\n",
       "      <th>4</th>\n",
       "      <td>Client satisfaction from the business and BT (...</td>\n",
       "      <td>negative</td>\n",
       "    </tr>\n",
       "  </tbody>\n",
       "</table>\n",
       "</div>"
      ],
      "text/plain": [
       "                                                text sentiment\n",
       "0  Sky Automation Test Manager Colin Ramsay is ha...  positive\n",
       "1  TDC will create two new business units OpCo an...   neutral\n",
       "2            Client is concerned with our delivery.   negative\n",
       "3  The delivery timelines are very well met as pe...  positive\n",
       "4  Client satisfaction from the business and BT (...  negative"
      ]
     },
     "execution_count": 18,
     "metadata": {},
     "output_type": "execute_result"
    }
   ],
   "source": [
    "data_final.head()"
   ]
  },
  {
   "cell_type": "markdown",
   "metadata": {},
   "source": [
    "### Data Cleaning"
   ]
  },
  {
   "cell_type": "code",
   "execution_count": 19,
   "metadata": {},
   "outputs": [],
   "source": [
    "def sentence_to_words(raw_sentence):\n",
    "    \"\"\"This function modifies the sentences to words by removing html marks,\n",
    "    non-letters etc.\"\"\"\n",
    "    \n",
    "    sent_text = BeautifulSoup(raw_sentence.encode('utf-8'), \"lxml\").get_text()  # Remove HTML markings\n",
    "    text = re.sub(r'-\\s+', '', sent_text)\n",
    "    letters = re.sub('[^a-zA-Z]|\\n', ' ', text)  # Remove non-letters: all special chars, numbers, puncs etc.\n",
    "    words = letters.lower().split()\n",
    "    stop_words = [w for w in stopwords.words('english') if not w in ['no', 'not', 'dont', 'isnt']] ## Negative words remain\n",
    "    important_words = [w for w in words if not w in stop_words and len(w)>2]\n",
    "    return ' '.join(important_words)"
   ]
  },
  {
   "cell_type": "code",
   "execution_count": 20,
   "metadata": {},
   "outputs": [
    {
     "data": {
      "text/html": [
       "<div>\n",
       "<style scoped>\n",
       "    .dataframe tbody tr th:only-of-type {\n",
       "        vertical-align: middle;\n",
       "    }\n",
       "\n",
       "    .dataframe tbody tr th {\n",
       "        vertical-align: top;\n",
       "    }\n",
       "\n",
       "    .dataframe thead th {\n",
       "        text-align: right;\n",
       "    }\n",
       "</style>\n",
       "<table border=\"1\" class=\"dataframe\">\n",
       "  <thead>\n",
       "    <tr style=\"text-align: right;\">\n",
       "      <th></th>\n",
       "      <th>text</th>\n",
       "      <th>sentiment</th>\n",
       "      <th>clean_text</th>\n",
       "    </tr>\n",
       "  </thead>\n",
       "  <tbody>\n",
       "    <tr>\n",
       "      <th>0</th>\n",
       "      <td>Sky Automation Test Manager Colin Ramsay is ha...</td>\n",
       "      <td>positive</td>\n",
       "      <td>sky automation test manager colin ramsay happy...</td>\n",
       "    </tr>\n",
       "    <tr>\n",
       "      <th>1</th>\n",
       "      <td>TDC will create two new business units OpCo an...</td>\n",
       "      <td>neutral</td>\n",
       "      <td>tdc create two new business units opco netco o...</td>\n",
       "    </tr>\n",
       "    <tr>\n",
       "      <th>2</th>\n",
       "      <td>Client is concerned with our delivery.</td>\n",
       "      <td>negative</td>\n",
       "      <td>client concerned delivery</td>\n",
       "    </tr>\n",
       "    <tr>\n",
       "      <th>3</th>\n",
       "      <td>The delivery timelines are very well met as pe...</td>\n",
       "      <td>positive</td>\n",
       "      <td>delivery timelines well met per client require...</td>\n",
       "    </tr>\n",
       "    <tr>\n",
       "      <th>4</th>\n",
       "      <td>Client satisfaction from the business and BT (...</td>\n",
       "      <td>negative</td>\n",
       "      <td>client satisfaction business stakeholders cont...</td>\n",
       "    </tr>\n",
       "  </tbody>\n",
       "</table>\n",
       "</div>"
      ],
      "text/plain": [
       "                                                text sentiment  \\\n",
       "0  Sky Automation Test Manager Colin Ramsay is ha...  positive   \n",
       "1  TDC will create two new business units OpCo an...   neutral   \n",
       "2            Client is concerned with our delivery.   negative   \n",
       "3  The delivery timelines are very well met as pe...  positive   \n",
       "4  Client satisfaction from the business and BT (...  negative   \n",
       "\n",
       "                                          clean_text  \n",
       "0  sky automation test manager colin ramsay happy...  \n",
       "1  tdc create two new business units opco netco o...  \n",
       "2                          client concerned delivery  \n",
       "3  delivery timelines well met per client require...  \n",
       "4  client satisfaction business stakeholders cont...  "
      ]
     },
     "execution_count": 20,
     "metadata": {},
     "output_type": "execute_result"
    }
   ],
   "source": [
    "data_final['clean_text'] = [sentence_to_words(t) for t in list(data_final['text'])]\n",
    "data_final.head()"
   ]
  },
  {
   "cell_type": "markdown",
   "metadata": {},
   "source": [
    "### Stemming and Lemmatization"
   ]
  },
  {
   "cell_type": "code",
   "execution_count": 21,
   "metadata": {},
   "outputs": [],
   "source": [
    "def stemming(text_list):\n",
    "    stemmer = SnowballStemmer('english')\n",
    "    return ' '.join([stemmer.stem(w) for w in text_list])\n",
    "\n",
    "def lemmatization(text_list):\n",
    "    lemmatizer = WordNetLemmatizer()\n",
    "    return ' '.join([lemmatizer.lemmatize(w) for w in text_list])"
   ]
  },
  {
   "cell_type": "code",
   "execution_count": 22,
   "metadata": {},
   "outputs": [
    {
     "data": {
      "text/html": [
       "<div>\n",
       "<style scoped>\n",
       "    .dataframe tbody tr th:only-of-type {\n",
       "        vertical-align: middle;\n",
       "    }\n",
       "\n",
       "    .dataframe tbody tr th {\n",
       "        vertical-align: top;\n",
       "    }\n",
       "\n",
       "    .dataframe thead th {\n",
       "        text-align: right;\n",
       "    }\n",
       "</style>\n",
       "<table border=\"1\" class=\"dataframe\">\n",
       "  <thead>\n",
       "    <tr style=\"text-align: right;\">\n",
       "      <th></th>\n",
       "      <th>text</th>\n",
       "      <th>sentiment</th>\n",
       "      <th>clean_text</th>\n",
       "      <th>stem_text</th>\n",
       "      <th>lemma_text</th>\n",
       "    </tr>\n",
       "  </thead>\n",
       "  <tbody>\n",
       "    <tr>\n",
       "      <th>0</th>\n",
       "      <td>Sky Automation Test Manager Colin Ramsay is ha...</td>\n",
       "      <td>positive</td>\n",
       "      <td>sky automation test manager colin ramsay happy...</td>\n",
       "      <td>sky autom test manag colin ramsay happi pleas ...</td>\n",
       "      <td>sky automation test manager colin ramsay happy...</td>\n",
       "    </tr>\n",
       "    <tr>\n",
       "      <th>1</th>\n",
       "      <td>TDC will create two new business units OpCo an...</td>\n",
       "      <td>neutral</td>\n",
       "      <td>tdc create two new business units opco netco o...</td>\n",
       "      <td>tdc creat two new busi unit opco netco opco cu...</td>\n",
       "      <td>tdc create two new business unit opco netco op...</td>\n",
       "    </tr>\n",
       "    <tr>\n",
       "      <th>2</th>\n",
       "      <td>Client is concerned with our delivery.</td>\n",
       "      <td>negative</td>\n",
       "      <td>client concerned delivery</td>\n",
       "      <td>client concern deliveri</td>\n",
       "      <td>client concerned delivery</td>\n",
       "    </tr>\n",
       "    <tr>\n",
       "      <th>3</th>\n",
       "      <td>The delivery timelines are very well met as pe...</td>\n",
       "      <td>positive</td>\n",
       "      <td>delivery timelines well met per client require...</td>\n",
       "      <td>deliveri timelin well met per client requir tr...</td>\n",
       "      <td>delivery timeline well met per client requirem...</td>\n",
       "    </tr>\n",
       "    <tr>\n",
       "      <th>4</th>\n",
       "      <td>Client satisfaction from the business and BT (...</td>\n",
       "      <td>negative</td>\n",
       "      <td>client satisfaction business stakeholders cont...</td>\n",
       "      <td>client satisfact busi stakehold continu alert ...</td>\n",
       "      <td>client satisfaction business stakeholder conti...</td>\n",
       "    </tr>\n",
       "  </tbody>\n",
       "</table>\n",
       "</div>"
      ],
      "text/plain": [
       "                                                text sentiment  \\\n",
       "0  Sky Automation Test Manager Colin Ramsay is ha...  positive   \n",
       "1  TDC will create two new business units OpCo an...   neutral   \n",
       "2            Client is concerned with our delivery.   negative   \n",
       "3  The delivery timelines are very well met as pe...  positive   \n",
       "4  Client satisfaction from the business and BT (...  negative   \n",
       "\n",
       "                                          clean_text  \\\n",
       "0  sky automation test manager colin ramsay happy...   \n",
       "1  tdc create two new business units opco netco o...   \n",
       "2                          client concerned delivery   \n",
       "3  delivery timelines well met per client require...   \n",
       "4  client satisfaction business stakeholders cont...   \n",
       "\n",
       "                                           stem_text  \\\n",
       "0  sky autom test manag colin ramsay happi pleas ...   \n",
       "1  tdc creat two new busi unit opco netco opco cu...   \n",
       "2                            client concern deliveri   \n",
       "3  deliveri timelin well met per client requir tr...   \n",
       "4  client satisfact busi stakehold continu alert ...   \n",
       "\n",
       "                                          lemma_text  \n",
       "0  sky automation test manager colin ramsay happy...  \n",
       "1  tdc create two new business unit opco netco op...  \n",
       "2                          client concerned delivery  \n",
       "3  delivery timeline well met per client requirem...  \n",
       "4  client satisfaction business stakeholder conti...  "
      ]
     },
     "execution_count": 22,
     "metadata": {},
     "output_type": "execute_result"
    }
   ],
   "source": [
    "data_final['stem_text'] = [stemming(each.split()) for each in data_final['clean_text']]\n",
    "data_final['lemma_text'] = [lemmatization(each.split()) for each in data_final['clean_text']]\n",
    "\n",
    "data_final.head()"
   ]
  },
  {
   "cell_type": "code",
   "execution_count": 24,
   "metadata": {
    "scrolled": true
   },
   "outputs": [
    {
     "name": "stdout",
     "output_type": "stream",
     "text": [
      "The number of records/rows in final df: 4100 and columns are: 5\n"
     ]
    }
   ],
   "source": [
    "# Check before remove duplicates from final df\n",
    "print (\"The number of records/rows in final df:\",data_final.shape[0], \"and columns are:\",data_final.shape[1])\n",
    "#print (data_final.columns)"
   ]
  },
  {
   "cell_type": "code",
   "execution_count": 25,
   "metadata": {},
   "outputs": [
    {
     "data": {
      "text/plain": [
       "(2789, 5)"
      ]
     },
     "execution_count": 25,
     "metadata": {},
     "output_type": "execute_result"
    }
   ],
   "source": [
    "data_final=data_final.drop_duplicates(subset={\"stem_text\",\"lemma_text\"}, keep='first', inplace=False)\n",
    "data_final.shape"
   ]
  },
  {
   "cell_type": "code",
   "execution_count": 26,
   "metadata": {},
   "outputs": [
    {
     "name": "stdout",
     "output_type": "stream",
     "text": [
      "The number of records/rows in final df: 2789 and columns are: 5\n"
     ]
    }
   ],
   "source": [
    "# Check After remove duplicates from final df\n",
    "print (\"The number of records/rows in final df:\",data_final.shape[0], \"and columns are:\",data_final.shape[1])"
   ]
  },
  {
   "cell_type": "code",
   "execution_count": 27,
   "metadata": {},
   "outputs": [
    {
     "data": {
      "text/plain": [
       "(2789, 5)"
      ]
     },
     "execution_count": 27,
     "metadata": {},
     "output_type": "execute_result"
    }
   ],
   "source": [
    "data_final.shape"
   ]
  },
  {
   "cell_type": "code",
   "execution_count": 28,
   "metadata": {},
   "outputs": [
    {
     "data": {
      "text/html": [
       "<div>\n",
       "<style scoped>\n",
       "    .dataframe tbody tr th:only-of-type {\n",
       "        vertical-align: middle;\n",
       "    }\n",
       "\n",
       "    .dataframe tbody tr th {\n",
       "        vertical-align: top;\n",
       "    }\n",
       "\n",
       "    .dataframe thead th {\n",
       "        text-align: right;\n",
       "    }\n",
       "</style>\n",
       "<table border=\"1\" class=\"dataframe\">\n",
       "  <thead>\n",
       "    <tr style=\"text-align: right;\">\n",
       "      <th></th>\n",
       "      <th>text</th>\n",
       "      <th>sentiment</th>\n",
       "      <th>clean_text</th>\n",
       "      <th>stem_text</th>\n",
       "      <th>lemma_text</th>\n",
       "    </tr>\n",
       "  </thead>\n",
       "  <tbody>\n",
       "    <tr>\n",
       "      <th>0</th>\n",
       "      <td>Sky Automation Test Manager Colin Ramsay is ha...</td>\n",
       "      <td>positive</td>\n",
       "      <td>sky automation test manager colin ramsay happy...</td>\n",
       "      <td>sky autom test manag colin ramsay happi pleas ...</td>\n",
       "      <td>sky automation test manager colin ramsay happy...</td>\n",
       "    </tr>\n",
       "    <tr>\n",
       "      <th>1</th>\n",
       "      <td>TDC will create two new business units OpCo an...</td>\n",
       "      <td>neutral</td>\n",
       "      <td>tdc create two new business units opco netco o...</td>\n",
       "      <td>tdc creat two new busi unit opco netco opco cu...</td>\n",
       "      <td>tdc create two new business unit opco netco op...</td>\n",
       "    </tr>\n",
       "    <tr>\n",
       "      <th>2</th>\n",
       "      <td>Client is concerned with our delivery.</td>\n",
       "      <td>negative</td>\n",
       "      <td>client concerned delivery</td>\n",
       "      <td>client concern deliveri</td>\n",
       "      <td>client concerned delivery</td>\n",
       "    </tr>\n",
       "    <tr>\n",
       "      <th>3</th>\n",
       "      <td>The delivery timelines are very well met as pe...</td>\n",
       "      <td>positive</td>\n",
       "      <td>delivery timelines well met per client require...</td>\n",
       "      <td>deliveri timelin well met per client requir tr...</td>\n",
       "      <td>delivery timeline well met per client requirem...</td>\n",
       "    </tr>\n",
       "    <tr>\n",
       "      <th>4</th>\n",
       "      <td>Client satisfaction from the business and BT (...</td>\n",
       "      <td>negative</td>\n",
       "      <td>client satisfaction business stakeholders cont...</td>\n",
       "      <td>client satisfact busi stakehold continu alert ...</td>\n",
       "      <td>client satisfaction business stakeholder conti...</td>\n",
       "    </tr>\n",
       "  </tbody>\n",
       "</table>\n",
       "</div>"
      ],
      "text/plain": [
       "                                                text sentiment  \\\n",
       "0  Sky Automation Test Manager Colin Ramsay is ha...  positive   \n",
       "1  TDC will create two new business units OpCo an...   neutral   \n",
       "2            Client is concerned with our delivery.   negative   \n",
       "3  The delivery timelines are very well met as pe...  positive   \n",
       "4  Client satisfaction from the business and BT (...  negative   \n",
       "\n",
       "                                          clean_text  \\\n",
       "0  sky automation test manager colin ramsay happy...   \n",
       "1  tdc create two new business units opco netco o...   \n",
       "2                          client concerned delivery   \n",
       "3  delivery timelines well met per client require...   \n",
       "4  client satisfaction business stakeholders cont...   \n",
       "\n",
       "                                           stem_text  \\\n",
       "0  sky autom test manag colin ramsay happi pleas ...   \n",
       "1  tdc creat two new busi unit opco netco opco cu...   \n",
       "2                            client concern deliveri   \n",
       "3  deliveri timelin well met per client requir tr...   \n",
       "4  client satisfact busi stakehold continu alert ...   \n",
       "\n",
       "                                          lemma_text  \n",
       "0  sky automation test manager colin ramsay happy...  \n",
       "1  tdc create two new business unit opco netco op...  \n",
       "2                          client concerned delivery  \n",
       "3  delivery timeline well met per client requirem...  \n",
       "4  client satisfaction business stakeholder conti...  "
      ]
     },
     "execution_count": 28,
     "metadata": {},
     "output_type": "execute_result"
    }
   ],
   "source": [
    "data_final.head()"
   ]
  },
  {
   "cell_type": "code",
   "execution_count": 29,
   "metadata": {},
   "outputs": [
    {
     "name": "stdout",
     "output_type": "stream",
     "text": [
      "Input data has 2789 rows and 5 columns\n"
     ]
    }
   ],
   "source": [
    "# What is the shape of the dataset?\n",
    "print(\"Input data has {} rows and {} columns\".format(len(data_final), len(data_final.columns)))"
   ]
  },
  {
   "cell_type": "code",
   "execution_count": 32,
   "metadata": {},
   "outputs": [
    {
     "name": "stdout",
     "output_type": "stream",
     "text": [
      "Out of 2789 rows, 1209 are neutral, 1008 are positive and 572 are negative\n"
     ]
    }
   ],
   "source": [
    "# How many spam/ham are there?\n",
    "print(\"Out of {} rows, {} are neutral, {} are positive and {} are negative\".format(len(data_final),\n",
    "                                                       len(data_final[data_final['sentiment']=='neutral']),\n",
    "                                                       len(data_final[data_final['sentiment']=='positive']),\n",
    "                                                       len(data_final[data_final['sentiment']=='negative'])))"
   ]
  },
  {
   "cell_type": "code",
   "execution_count": 33,
   "metadata": {},
   "outputs": [
    {
     "data": {
      "text/plain": [
       "neutral     1209\n",
       "positive    1008\n",
       "negative     572\n",
       "Name: sentiment, dtype: int64"
      ]
     },
     "execution_count": 33,
     "metadata": {},
     "output_type": "execute_result"
    }
   ],
   "source": [
    "data_final['sentiment'].value_counts()    ### Clean Data"
   ]
  },
  {
   "cell_type": "code",
   "execution_count": 34,
   "metadata": {},
   "outputs": [
    {
     "name": "stdout",
     "output_type": "stream",
     "text": [
      "Number of null in label: 0\n",
      "Number of null in text: 0\n"
     ]
    }
   ],
   "source": [
    "# How much missing data is there?\n",
    "print(\"Number of null in label: {}\".format(data_final['sentiment'].isnull().sum()))\n",
    "print(\"Number of null in text: {}\".format(data_final['text'].isnull().sum()))"
   ]
  },
  {
   "cell_type": "code",
   "execution_count": null,
   "metadata": {},
   "outputs": [],
   "source": [
    "data_final['SwordCount'] = data_final['stem_text'].apply(lambda x: len(str(x).split(\" \")))"
   ]
  },
  {
   "cell_type": "code",
   "execution_count": 57,
   "metadata": {},
   "outputs": [],
   "source": [
    "data_final['LwordCount'] = data_final['lemma_text'].apply(lambda x: len(str(x).split(\" \")))"
   ]
  },
  {
   "cell_type": "code",
   "execution_count": 58,
   "metadata": {},
   "outputs": [
    {
     "data": {
      "text/html": [
       "<div>\n",
       "<style scoped>\n",
       "    .dataframe tbody tr th:only-of-type {\n",
       "        vertical-align: middle;\n",
       "    }\n",
       "\n",
       "    .dataframe tbody tr th {\n",
       "        vertical-align: top;\n",
       "    }\n",
       "\n",
       "    .dataframe thead th {\n",
       "        text-align: right;\n",
       "    }\n",
       "</style>\n",
       "<table border=\"1\" class=\"dataframe\">\n",
       "  <thead>\n",
       "    <tr style=\"text-align: right;\">\n",
       "      <th></th>\n",
       "      <th>text</th>\n",
       "      <th>sentiment</th>\n",
       "      <th>clean_text</th>\n",
       "      <th>stem_text</th>\n",
       "      <th>lemma_text</th>\n",
       "      <th>LwordCount</th>\n",
       "    </tr>\n",
       "  </thead>\n",
       "  <tbody>\n",
       "    <tr>\n",
       "      <th>0</th>\n",
       "      <td>Sky Automation Test Manager Colin Ramsay is ha...</td>\n",
       "      <td>positive</td>\n",
       "      <td>sky automation test manager colin ramsay happy...</td>\n",
       "      <td>sky autom test manag colin ramsay happi pleas ...</td>\n",
       "      <td>sky automation test manager colin ramsay happy...</td>\n",
       "      <td>11</td>\n",
       "    </tr>\n",
       "    <tr>\n",
       "      <th>1</th>\n",
       "      <td>TDC will create two new business units OpCo an...</td>\n",
       "      <td>neutral</td>\n",
       "      <td>tdc create two new business units opco netco o...</td>\n",
       "      <td>tdc creat two new busi unit opco netco opco cu...</td>\n",
       "      <td>tdc create two new business unit opco netco op...</td>\n",
       "      <td>42</td>\n",
       "    </tr>\n",
       "    <tr>\n",
       "      <th>2</th>\n",
       "      <td>Client is concerned with our delivery.</td>\n",
       "      <td>negative</td>\n",
       "      <td>client concerned delivery</td>\n",
       "      <td>client concern deliveri</td>\n",
       "      <td>client concerned delivery</td>\n",
       "      <td>3</td>\n",
       "    </tr>\n",
       "    <tr>\n",
       "      <th>3</th>\n",
       "      <td>The delivery timelines are very well met as pe...</td>\n",
       "      <td>positive</td>\n",
       "      <td>delivery timelines well met per client require...</td>\n",
       "      <td>deliveri timelin well met per client requir tr...</td>\n",
       "      <td>delivery timeline well met per client requirem...</td>\n",
       "      <td>10</td>\n",
       "    </tr>\n",
       "    <tr>\n",
       "      <th>4</th>\n",
       "      <td>Client satisfaction from the business and BT (...</td>\n",
       "      <td>negative</td>\n",
       "      <td>client satisfaction business stakeholders cont...</td>\n",
       "      <td>client satisfact busi stakehold continu alert ...</td>\n",
       "      <td>client satisfaction business stakeholder conti...</td>\n",
       "      <td>16</td>\n",
       "    </tr>\n",
       "  </tbody>\n",
       "</table>\n",
       "</div>"
      ],
      "text/plain": [
       "                                                text sentiment  \\\n",
       "0  Sky Automation Test Manager Colin Ramsay is ha...  positive   \n",
       "1  TDC will create two new business units OpCo an...   neutral   \n",
       "2            Client is concerned with our delivery.   negative   \n",
       "3  The delivery timelines are very well met as pe...  positive   \n",
       "4  Client satisfaction from the business and BT (...  negative   \n",
       "\n",
       "                                          clean_text  \\\n",
       "0  sky automation test manager colin ramsay happy...   \n",
       "1  tdc create two new business units opco netco o...   \n",
       "2                          client concerned delivery   \n",
       "3  delivery timelines well met per client require...   \n",
       "4  client satisfaction business stakeholders cont...   \n",
       "\n",
       "                                           stem_text  \\\n",
       "0  sky autom test manag colin ramsay happi pleas ...   \n",
       "1  tdc creat two new busi unit opco netco opco cu...   \n",
       "2                            client concern deliveri   \n",
       "3  deliveri timelin well met per client requir tr...   \n",
       "4  client satisfact busi stakehold continu alert ...   \n",
       "\n",
       "                                          lemma_text  LwordCount  \n",
       "0  sky automation test manager colin ramsay happy...          11  \n",
       "1  tdc create two new business unit opco netco op...          42  \n",
       "2                          client concerned delivery           3  \n",
       "3  delivery timeline well met per client requirem...          10  \n",
       "4  client satisfaction business stakeholder conti...          16  "
      ]
     },
     "execution_count": 58,
     "metadata": {},
     "output_type": "execute_result"
    }
   ],
   "source": [
    "data_final.head()"
   ]
  },
  {
   "cell_type": "code",
   "execution_count": 59,
   "metadata": {},
   "outputs": [
    {
     "data": {
      "text/plain": [
       "79"
      ]
     },
     "execution_count": 59,
     "metadata": {},
     "output_type": "execute_result"
    }
   ],
   "source": [
    "len(data_final['lemma_text'][0])"
   ]
  },
  {
   "cell_type": "code",
   "execution_count": 63,
   "metadata": {},
   "outputs": [
    {
     "data": {
      "text/plain": [
       "'client concerned delivery'"
      ]
     },
     "execution_count": 63,
     "metadata": {},
     "output_type": "execute_result"
    }
   ],
   "source": [
    "data_final['lemma_text'][2]"
   ]
  }
 ],
 "metadata": {
  "kernelspec": {
   "display_name": "Python 3",
   "language": "python",
   "name": "python3"
  },
  "language_info": {
   "codemirror_mode": {
    "name": "ipython",
    "version": 3
   },
   "file_extension": ".py",
   "mimetype": "text/x-python",
   "name": "python",
   "nbconvert_exporter": "python",
   "pygments_lexer": "ipython3",
   "version": "3.6.3rc1"
  }
 },
 "nbformat": 4,
 "nbformat_minor": 2
}
